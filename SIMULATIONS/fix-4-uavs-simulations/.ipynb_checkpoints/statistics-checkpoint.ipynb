{
 "cells": [
  {
   "cell_type": "code",
   "execution_count": 1,
   "metadata": {},
   "outputs": [],
   "source": [
    "import pandas as pd\n",
    "import numpy as np\n",
    "import os, glob\n",
    "import matplotlib.pyplot as plt\n",
    "import seaborn as sns"
   ]
  },
  {
   "cell_type": "code",
   "execution_count": 2,
   "metadata": {},
   "outputs": [],
   "source": [
    "folder = '4uav_simulations'\n",
    "file_name = 'summary_num_uavs_simulation'\n",
    "file = str(folder+'/'+file_name+'.txt')\n",
    "df = pd.read_csv(file, delimiter = \",\")"
   ]
  },
  {
   "cell_type": "code",
   "execution_count": 3,
   "metadata": {},
   "outputs": [
    {
     "data": {
      "text/html": [
       "<div>\n",
       "<style scoped>\n",
       "    .dataframe tbody tr th:only-of-type {\n",
       "        vertical-align: middle;\n",
       "    }\n",
       "\n",
       "    .dataframe tbody tr th {\n",
       "        vertical-align: top;\n",
       "    }\n",
       "\n",
       "    .dataframe thead th {\n",
       "        text-align: right;\n",
       "    }\n",
       "</style>\n",
       "<table border=\"1\" class=\"dataframe\">\n",
       "  <thead>\n",
       "    <tr style=\"text-align: right;\">\n",
       "      <th></th>\n",
       "      <th>exec_time</th>\n",
       "      <th>NUM_UAVS</th>\n",
       "      <th>MODE</th>\n",
       "      <th>ALWAYS_COMMUNICATION</th>\n",
       "      <th>total_iter</th>\n",
       "      <th>total_cov_area</th>\n",
       "      <th>average_inst_cov_area</th>\n",
       "      <th>mission_time</th>\n",
       "    </tr>\n",
       "  </thead>\n",
       "  <tbody>\n",
       "    <tr>\n",
       "      <th>0</th>\n",
       "      <td>54847.62</td>\n",
       "      <td>4</td>\n",
       "      <td>unique</td>\n",
       "      <td>False</td>\n",
       "      <td>337</td>\n",
       "      <td>95.08</td>\n",
       "      <td>11.24</td>\n",
       "      <td>67.4</td>\n",
       "    </tr>\n",
       "    <tr>\n",
       "      <th>1</th>\n",
       "      <td>54887.83</td>\n",
       "      <td>4</td>\n",
       "      <td>unique</td>\n",
       "      <td>False</td>\n",
       "      <td>190</td>\n",
       "      <td>95.04</td>\n",
       "      <td>11.61</td>\n",
       "      <td>38.0</td>\n",
       "    </tr>\n",
       "    <tr>\n",
       "      <th>2</th>\n",
       "      <td>54922.88</td>\n",
       "      <td>4</td>\n",
       "      <td>unique</td>\n",
       "      <td>False</td>\n",
       "      <td>167</td>\n",
       "      <td>95.04</td>\n",
       "      <td>11.51</td>\n",
       "      <td>33.4</td>\n",
       "    </tr>\n",
       "    <tr>\n",
       "      <th>3</th>\n",
       "      <td>54977.02</td>\n",
       "      <td>4</td>\n",
       "      <td>unique</td>\n",
       "      <td>False</td>\n",
       "      <td>235</td>\n",
       "      <td>95.00</td>\n",
       "      <td>11.38</td>\n",
       "      <td>47.0</td>\n",
       "    </tr>\n",
       "    <tr>\n",
       "      <th>4</th>\n",
       "      <td>55034.64</td>\n",
       "      <td>4</td>\n",
       "      <td>unique</td>\n",
       "      <td>False</td>\n",
       "      <td>341</td>\n",
       "      <td>95.00</td>\n",
       "      <td>11.22</td>\n",
       "      <td>68.2</td>\n",
       "    </tr>\n",
       "  </tbody>\n",
       "</table>\n",
       "</div>"
      ],
      "text/plain": [
       "   exec_time  NUM_UAVS    MODE  ALWAYS_COMMUNICATION  total_iter  \\\n",
       "0   54847.62         4  unique                 False         337   \n",
       "1   54887.83         4  unique                 False         190   \n",
       "2   54922.88         4  unique                 False         167   \n",
       "3   54977.02         4  unique                 False         235   \n",
       "4   55034.64         4  unique                 False         341   \n",
       "\n",
       "   total_cov_area  average_inst_cov_area  mission_time  \n",
       "0           95.08                  11.24          67.4  \n",
       "1           95.04                  11.61          38.0  \n",
       "2           95.04                  11.51          33.4  \n",
       "3           95.00                  11.38          47.0  \n",
       "4           95.00                  11.22          68.2  "
      ]
     },
     "execution_count": 3,
     "metadata": {},
     "output_type": "execute_result"
    }
   ],
   "source": [
    "df.head()"
   ]
  },
  {
   "cell_type": "code",
   "execution_count": 4,
   "metadata": {},
   "outputs": [
    {
     "data": {
      "text/plain": [
       "<AxesSubplot:>"
      ]
     },
     "execution_count": 4,
     "metadata": {},
     "output_type": "execute_result"
    },
    {
     "data": {
      "image/png": "[encoded data removed]",
      "text/plain": [
       "<Figure size 432x288 with 1 Axes>"
      ]
     },
     "metadata": {
      "needs_background": "light"
     },
     "output_type": "display_data"
    }
   ],
   "source": [
    "df['mission_time'].hist()"
   ]
  },
  {
   "cell_type": "code",
   "execution_count": 5,
   "metadata": {},
   "outputs": [
    {
     "ename": "NameError",
     "evalue": "name 'unique_avg' is not defined",
     "output_type": "error",
     "traceback": [
      "\u001b[0;31m---------------------------------------------------------------------------\u001b[0m",
      "\u001b[0;31mNameError\u001b[0m                                 Traceback (most recent call last)",
      "\u001b[0;32m<ipython-input-5-16fa4dcc16fb>\u001b[0m in \u001b[0;36m<module>\u001b[0;34m\u001b[0m\n\u001b[1;32m     11\u001b[0m \u001b[0maxs\u001b[0m\u001b[0;34m[\u001b[0m\u001b[0;36m0\u001b[0m\u001b[0;34m]\u001b[0m\u001b[0;34m[\u001b[0m\u001b[0;36m0\u001b[0m\u001b[0;34m]\u001b[0m\u001b[0;34m.\u001b[0m\u001b[0mset_xlabel\u001b[0m\u001b[0;34m(\u001b[0m\u001b[0;34m\"Num of UAVs\"\u001b[0m\u001b[0;34m)\u001b[0m\u001b[0;34m\u001b[0m\u001b[0;34m\u001b[0m\u001b[0m\n\u001b[1;32m     12\u001b[0m \u001b[0maxs\u001b[0m\u001b[0;34m[\u001b[0m\u001b[0;36m0\u001b[0m\u001b[0;34m]\u001b[0m\u001b[0;34m[\u001b[0m\u001b[0;36m0\u001b[0m\u001b[0;34m]\u001b[0m\u001b[0;34m.\u001b[0m\u001b[0mset_ylabel\u001b[0m\u001b[0;34m(\u001b[0m\u001b[0;34m\"Mission time (seconds)\"\u001b[0m\u001b[0;34m)\u001b[0m\u001b[0;34m\u001b[0m\u001b[0;34m\u001b[0m\u001b[0m\n\u001b[0;32m---> 13\u001b[0;31m axs[0][0].scatter(unique_avg.index, unique_avg['mission_time'],\n\u001b[0m\u001b[1;32m     14\u001b[0m                   \u001b[0mcolor\u001b[0m\u001b[0;34m=\u001b[0m\u001b[0;34m'royalblue'\u001b[0m\u001b[0;34m,\u001b[0m \u001b[0malpha\u001b[0m\u001b[0;34m=\u001b[0m\u001b[0;36m0.8\u001b[0m\u001b[0;34m,\u001b[0m \u001b[0medgecolor\u001b[0m\u001b[0;34m=\u001b[0m\u001b[0;34m'black'\u001b[0m\u001b[0;34m,\u001b[0m \u001b[0mzorder\u001b[0m\u001b[0;34m=\u001b[0m\u001b[0;36m2\u001b[0m\u001b[0;34m,\u001b[0m\u001b[0;34m\u001b[0m\u001b[0;34m\u001b[0m\u001b[0m\n\u001b[1;32m     15\u001b[0m                   label='Unique Mode Average mission time')\n",
      "\u001b[0;31mNameError\u001b[0m: name 'unique_avg' is not defined"
     ]
    },
    {
     "data": {
      "image/png": "[encoded data removed]",
      "text/plain": [
       "<Figure size 1152x792 with 4 Axes>"
      ]
     },
     "metadata": {
      "needs_background": "light"
     },
     "output_type": "display_data"
    }
   ],
   "source": [
    "from sklearn.preprocessing import PolynomialFeatures\n",
    "from sklearn.linear_model import LinearRegression\n",
    "from scipy.optimize import curve_fit\n",
    "\n",
    "fig, axs = plt.subplots(nrows=2, ncols=2, figsize=(16, 11),\n",
    "                        gridspec_kw={'height_ratios': [4, 5], 'width_ratios': [5,4]})\n",
    "fig.tight_layout(pad=4.0)\n",
    "\n",
    "# Mission time plot - averages\n",
    "axs[0][0].set_title(\"Average Mission time and Num UAVs\")\n",
    "axs[0][0].set_xlabel(\"Num of UAVs\")\n",
    "axs[0][0].set_ylabel(\"Mission time (seconds)\")\n",
    "axs[0][0].scatter(average.index, average['mission_time'],\n",
    "                  color='royalblue', alpha=0.8, edgecolor='black', zorder=2,\n",
    "                  label='Unique Mode Average mission time')\n",
    "axs[0][0].plot(average.index, average['mission_time'], color='cornflowerblue', alpha=0.7, zorder=1)\n",
    "\n",
    "\n",
    "X = list(map(lambda i:[i], average.index))\n",
    "y = list(map(lambda i:[i], average['mission_time']))\n",
    "min_x = np.min(X)\n",
    "max_x = np.max(X)\n",
    "diff_x = max_x - min_x\n",
    "\n",
    "min_y = np.min(y)\n",
    "max_y = np.max(y)\n",
    "diff_y = max_y - min_y\n",
    "\n",
    "# poly_X = PolynomialFeatures(degree=2, include_bias=False).fit_transform(X)\n",
    "# reg = LinearRegression().fit(poly_X, y)\n",
    "# line = np.linspace(min_x - 0.05 * diff_x, max_x + 0.05 * diff_x).reshape(-1, 1)\n",
    "# xs = PolynomialFeatures(degree=2, include_bias=False).fit_transform(line)\n",
    "# ys = reg.predict(xs)\n",
    "# axs[0][0].plot(xs[:,0], ys, color='red', linestyle='--', alpha=0.8,\n",
    "#                label=\"Tendency line (Polynomial Regression 2º degree)\")\n",
    "\n",
    "def func(x, a, b, c):\n",
    "    return a * np.exp(-b * x) + c\n",
    "\n",
    "x = np.array(average.index, dtype=np.float64)\n",
    "y = np.array(average['mission_time'], dtype=np.float64)\n",
    "popt, pcov = curve_fit(func, x, y)\n",
    "axs[0][0].plot(x, func(x, *popt), color='red', linestyle='--', alpha=0.8,\n",
    "               label=str(\"Fitted Curve: f(x) = \"+str(popt[0].round(2))+' * e^('+' -'+str(popt[1].round(2))+\n",
    "                         'x) + '+str(popt[2].round(2))))\n",
    "\n",
    "axs[0][0].set_xlim(min_x - 0.1 * diff_x, max_x + 0.1 * diff_x)\n",
    "axs[0][0].legend()\n",
    "\n",
    "\n",
    "# Avg instantaneous coverage plot - averages\n",
    "axs[0][1].set_title(\"Average Instantaneous area coverage\")\n",
    "axs[0][1].set_xlabel(\"Num of UAVs\")\n",
    "axs[0][1].set_ylabel(\"Average Instantaneous area coverage %\")\n",
    "axs[0][1].scatter(average.index, average['average_inst_cov_area'], color='darkorange', alpha=1, edgecolor='black', zorder=2)\n",
    "axs[0][1].plot(average.index, average['average_inst_cov_area'], color='orange', alpha=0.8, zorder=1)\n",
    "\n",
    "# Mission time plot - samples distribution - boxplots\n",
    "axs[1][0].set_title(\"Distribution of Mission times and boxplots\")\n",
    "axs[1][0].set_xlabel(\"Num of UAVs\")\n",
    "axs[1][0].set_ylabel(\"Mission time (seconds)\")\n",
    "data = list(df.groupby('NUM_UAVS')['mission_time'].apply(list))\n",
    "data.insert(0,[])\n",
    "axs[1][0].boxplot(data, positions=list(np.arange(1.4,11.4,1.0)), manage_ticks=False)\n",
    "axs[1][0].scatter(df['NUM_UAVS'], df['mission_time'], color='royalblue', alpha=1,\n",
    "                  edgecolor='black', zorder=2, label=\"Single simulation mission time\")\n",
    "axs[1][0].grid(axis='x', linestyle='--', alpha=0.5)\n",
    "# axs[1][0].plot(xs[:,0], ys, color='red', linestyle='--', alpha=0.25,\n",
    "#                label=\"Tendency line (Polynomial Regression 2º degree)\")\n",
    "axs[1][0].plot(x, func(x, *popt), color='red', linestyle='--', alpha=0.5,\n",
    "               label=str(\"Fitted Curve: f(x) = \"+str(popt[0].round(2))+' * e^('+' -'+str(popt[1].round(2))+\n",
    "                         'x) + '+str(popt[2].round(2))))\n",
    "axs[1][0].set_xlim(min_x - 0.1 * diff_x, max_x + 0.1 * diff_x)\n",
    "axs[1][0].legend()\n",
    "\n",
    "# Instantaneous area coverage samples distribution\n",
    "axs[1][1].set_title(\"Instantaneous area coverage\")\n",
    "axs[1][1].set_xlabel(\"Num of UAVs\")\n",
    "axs[1][1].set_ylabel(\"Instantaneous area coverage %\")\n",
    "axs[1][1].scatter(df['NUM_UAVS'], df['average_inst_cov_area'], color='darkorange', alpha=1, edgecolor='black', zorder=2)\n",
    "\n",
    "plt.savefig('fig.png', dpi=300)\n",
    "plt.show()"
   ]
  },
  {
   "cell_type": "code",
   "execution_count": null,
   "metadata": {},
   "outputs": [],
   "source": []
  },
  {
   "cell_type": "code",
   "execution_count": null,
   "metadata": {},
   "outputs": [],
   "source": []
  }
 ],
 "metadata": {
  "kernelspec": {
   "display_name": "Python 3",
   "language": "python",
   "name": "python3"
  },
  "language_info": {
   "codemirror_mode": {
    "name": "ipython",
    "version": 3
   },
   "file_extension": ".py",
   "mimetype": "text/x-python",
   "name": "python",
   "nbconvert_exporter": "python",
   "pygments_lexer": "ipython3",
   "version": "3.7.5"
  }
 },
 "nbformat": 4,
 "nbformat_minor": 4
}
