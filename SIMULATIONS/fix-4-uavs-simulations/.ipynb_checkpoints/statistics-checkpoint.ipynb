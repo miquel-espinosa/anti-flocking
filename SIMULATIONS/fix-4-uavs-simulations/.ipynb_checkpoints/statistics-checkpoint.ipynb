{
 "cells": [
  {
   "cell_type": "code",
   "execution_count": 1,
   "metadata": {},
   "outputs": [],
   "source": [
    "import pandas as pd\n",
    "import numpy as np\n",
    "import os, glob\n",
    "import matplotlib.pyplot as plt\n",
    "import seaborn as sns"
   ]
  },
  {
   "cell_type": "code",
   "execution_count": 2,
   "metadata": {},
   "outputs": [],
   "source": [
    "folder = '4uav_simulations'\n",
    "file_name = 'summary_num_uavs_simulation'\n",
    "file = str(folder+'/'+file_name+'.txt')\n",
    "df = pd.read_csv(file, delimiter = \",\")"
   ]
  },
  {
   "cell_type": "code",
   "execution_count": 3,
   "metadata": {},
   "outputs": [
    {
     "data": {
      "text/html": [
       "<div>\n",
       "<style scoped>\n",
       "    .dataframe tbody tr th:only-of-type {\n",
       "        vertical-align: middle;\n",
       "    }\n",
       "\n",
       "    .dataframe tbody tr th {\n",
       "        vertical-align: top;\n",
       "    }\n",
       "\n",
       "    .dataframe thead th {\n",
       "        text-align: right;\n",
       "    }\n",
       "</style>\n",
       "<table border=\"1\" class=\"dataframe\">\n",
       "  <thead>\n",
       "    <tr style=\"text-align: right;\">\n",
       "      <th></th>\n",
       "      <th>exec_time</th>\n",
       "      <th>NUM_UAVS</th>\n",
       "      <th>MODE</th>\n",
       "      <th>ALWAYS_COMMUNICATION</th>\n",
       "      <th>total_iter</th>\n",
       "      <th>total_cov_area</th>\n",
       "      <th>average_inst_cov_area</th>\n",
       "      <th>mission_time</th>\n",
       "    </tr>\n",
       "  </thead>\n",
       "  <tbody>\n",
       "    <tr>\n",
       "      <th>0</th>\n",
       "      <td>54847.62</td>\n",
       "      <td>4</td>\n",
       "      <td>unique</td>\n",
       "      <td>False</td>\n",
       "      <td>337</td>\n",
       "      <td>95.08</td>\n",
       "      <td>11.24</td>\n",
       "      <td>67.4</td>\n",
       "    </tr>\n",
       "    <tr>\n",
       "      <th>1</th>\n",
       "      <td>54887.83</td>\n",
       "      <td>4</td>\n",
       "      <td>unique</td>\n",
       "      <td>False</td>\n",
       "      <td>190</td>\n",
       "      <td>95.04</td>\n",
       "      <td>11.61</td>\n",
       "      <td>38.0</td>\n",
       "    </tr>\n",
       "    <tr>\n",
       "      <th>2</th>\n",
       "      <td>54922.88</td>\n",
       "      <td>4</td>\n",
       "      <td>unique</td>\n",
       "      <td>False</td>\n",
       "      <td>167</td>\n",
       "      <td>95.04</td>\n",
       "      <td>11.51</td>\n",
       "      <td>33.4</td>\n",
       "    </tr>\n",
       "    <tr>\n",
       "      <th>3</th>\n",
       "      <td>54977.02</td>\n",
       "      <td>4</td>\n",
       "      <td>unique</td>\n",
       "      <td>False</td>\n",
       "      <td>235</td>\n",
       "      <td>95.00</td>\n",
       "      <td>11.38</td>\n",
       "      <td>47.0</td>\n",
       "    </tr>\n",
       "    <tr>\n",
       "      <th>4</th>\n",
       "      <td>55034.64</td>\n",
       "      <td>4</td>\n",
       "      <td>unique</td>\n",
       "      <td>False</td>\n",
       "      <td>341</td>\n",
       "      <td>95.00</td>\n",
       "      <td>11.22</td>\n",
       "      <td>68.2</td>\n",
       "    </tr>\n",
       "  </tbody>\n",
       "</table>\n",
       "</div>"
      ],
      "text/plain": [
       "   exec_time  NUM_UAVS    MODE  ALWAYS_COMMUNICATION  total_iter  \\\n",
       "0   54847.62         4  unique                 False         337   \n",
       "1   54887.83         4  unique                 False         190   \n",
       "2   54922.88         4  unique                 False         167   \n",
       "3   54977.02         4  unique                 False         235   \n",
       "4   55034.64         4  unique                 False         341   \n",
       "\n",
       "   total_cov_area  average_inst_cov_area  mission_time  \n",
       "0           95.08                  11.24          67.4  \n",
       "1           95.04                  11.61          38.0  \n",
       "2           95.04                  11.51          33.4  \n",
       "3           95.00                  11.38          47.0  \n",
       "4           95.00                  11.22          68.2  "
      ]
     },
     "execution_count": 3,
     "metadata": {},
     "output_type": "execute_result"
    }
   ],
   "source": [
    "df.head()"
   ]
  },
  {
   "cell_type": "code",
   "execution_count": 93,
   "metadata": {},
   "outputs": [
    {
     "data": {
      "image/png": "[encoded data removed]",
      "text/plain": [
       "<Figure size 1008x288 with 2 Axes>"
      ]
     },
     "metadata": {
      "needs_background": "light"
     },
     "output_type": "display_data"
    }
   ],
   "source": [
    "average = df.groupby('NUM_UAVS').mean()\n",
    "arr = np.array(list(df['mission_time']))\n",
    "\n",
    "plt.rcParams.update({'font.size': 13})\n",
    "\n",
    "fig, axs = plt.subplots(nrows=1, ncols=2, figsize=(14,4),\n",
    "                        gridspec_kw={'width_ratios': [4,5]})\n",
    "fig.tight_layout(pad=1.5)\n",
    "\n",
    "axs[0].set_title(\"Sample distribution for 4 UAVs simulations\")\n",
    "axs[0].set_xlabel(\"Mission times (seconds)\")\n",
    "axs[0].set_ylabel(\"Number of samples\")\n",
    "axs[0].hist(arr)\n",
    "\n",
    "y = np.array(len(arr)*[1])\n",
    "noise = np.random.uniform(low=-0.1,high=0.1,size=len(arr))\n",
    "axs[1].set_title(\"Sample distribution for 4 UAVs simulations\")\n",
    "axs[1].set_xlabel(\"Mission times (seconds)\")\n",
    "axs[1].set_ylabel(\"60 experiments \\n with 4 UAVs\")\n",
    "axs[1].boxplot(arr, vert=False)\n",
    "axs[1].set_yticks([])\n",
    "axs[1].scatter(arr,y+noise+0.25, edgecolor='black', alpha=0.8)\n",
    "axs[1].set_ylim(0.75,1.5)\n",
    "\n",
    "plt.savefig('num-uavs-outliers-analysis.png', dpi=300, bbox_inches='tight', pad_inches=0.1)\n",
    "plt.show()"
   ]
  },
  {
   "cell_type": "code",
   "execution_count": 43,
   "metadata": {},
   "outputs": [
    {
     "data": {
      "image/png": "[encoded data removed]",
      "text/plain": [
       "<Figure size 360x360 with 1 Axes>"
      ]
     },
     "metadata": {
      "needs_background": "light"
     },
     "output_type": "display_data"
    }
   ],
   "source": [
    "\n",
    "plt.show()"
   ]
  },
  {
   "cell_type": "code",
   "execution_count": null,
   "metadata": {},
   "outputs": [],
   "source": []
  }
 ],
 "metadata": {
  "kernelspec": {
   "display_name": "Python 3",
   "language": "python",
   "name": "python3"
  },
  "language_info": {
   "codemirror_mode": {
    "name": "ipython",
    "version": 3
   },
   "file_extension": ".py",
   "mimetype": "text/x-python",
   "name": "python",
   "nbconvert_exporter": "python",
   "pygments_lexer": "ipython3",
   "version": "3.7.5"
  }
 },
 "nbformat": 4,
 "nbformat_minor": 4
}
